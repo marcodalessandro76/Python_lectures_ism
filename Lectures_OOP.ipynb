{
 "cells": [
  {
   "cell_type": "markdown",
   "metadata": {},
   "source": [
    "# Object Oriented Programming (OOP) in Python "
   ]
  },
  {
   "cell_type": "markdown",
   "metadata": {},
   "source": [
    "## OOP versus procedural programming paradigms"
   ]
  },
  {
   "cell_type": "markdown",
   "metadata": {},
   "source": [
    "A common way to structure a program is to use the __Procedural programming paradigm__:\n",
    "* define data and function that operates on data\n",
    "* structures a program like a recipe that it provides a set of steps, in the form of functions and code blocks, that flow sequentially in order to complete a task\n",
    "\n",
    "An alternative to this approach is provided by the __Object oriented programming paradigm__.\n",
    "\n",
    "Here we give some definition of what on object is:\n",
    "* An object is simply a collection of data (variables) and methods (functions) that act on those data.\n",
    "* Objects are a way to encapsulate variables and functions that operates on them into a single entity.\n",
    "\n",
    "In a OOP the programmer defines the objects and make them interact. "
   ]
  },
  {
   "cell_type": "markdown",
   "metadata": {},
   "source": [
    "## First examples of class definition and usage"
   ]
  },
  {
   "cell_type": "markdown",
   "metadata": {},
   "source": [
    "Python data structure like for instance a numpy array has the features of an object."
   ]
  },
  {
   "cell_type": "code",
   "execution_count": 1,
   "metadata": {},
   "outputs": [],
   "source": [
    "import numpy as np\n",
    "import random as rand"
   ]
  },
  {
   "cell_type": "code",
   "execution_count": 5,
   "metadata": {},
   "outputs": [
    {
     "data": {
      "text/plain": [
       "array([0.86711845, 0.69028001, 0.70253927, 0.98537323, 0.65257081,\n",
       "       0.20787459, 0.01831197, 0.21071877, 0.85844787, 0.05849734])"
      ]
     },
     "execution_count": 5,
     "metadata": {},
     "output_type": "execute_result"
    }
   ],
   "source": [
    "data = np.array([rand.random() for ind in range(10)])\n",
    "data"
   ]
  },
  {
   "cell_type": "markdown",
   "metadata": {},
   "source": [
    "Since data is np.array we can perform specific (python provided) operation on it"
   ]
  },
  {
   "cell_type": "code",
   "execution_count": 7,
   "metadata": {},
   "outputs": [
    {
     "data": {
      "text/plain": [
       "0.5251732310406119"
      ]
     },
     "execution_count": 7,
     "metadata": {},
     "output_type": "execute_result"
    }
   ],
   "source": [
    "data.mean()"
   ]
  },
  {
   "cell_type": "code",
   "execution_count": 8,
   "metadata": {},
   "outputs": [
    {
     "data": {
      "text/plain": [
       "3"
      ]
     },
     "execution_count": 8,
     "metadata": {},
     "output_type": "execute_result"
    }
   ],
   "source": [
    "data.argmax()"
   ]
  },
  {
   "cell_type": "markdown",
   "metadata": {},
   "source": [
    "The notion of __class__ allows us to build our own objects with specific data and methods.\n",
    "\n",
    "Here we discuss a first example"
   ]
  },
  {
   "cell_type": "code",
   "execution_count": 20,
   "metadata": {},
   "outputs": [],
   "source": [
    "class Person:\n",
    "    \"\"\"\n",
    "    This class describes a person represented by its general features\n",
    "    like name, age and gender\n",
    "    \"\"\"\n",
    "    \n",
    "    def __init__(self,name,age,gender):\n",
    "        \"\"\"\n",
    "        To create an instance of the class provide the following parameters\n",
    "        \n",
    "        Args:\n",
    "            name (string) : the name of the person\n",
    "            age (int) : the age of the person\n",
    "            gender (string) : the gender of the person\n",
    "        \"\"\"\n",
    "        self.name = name\n",
    "        self.age = age\n",
    "        self.gender = gender\n",
    "\n",
    "    def greet(self):\n",
    "        \"\"\"\n",
    "        I introduce my self\n",
    "        \"\"\"\n",
    "        print(\"Hello my name is %s, I'm a %s and I'm %s years old\"%(self.name,self.gender,self.age))\n",
    "    \n",
    "    def ismybirthday(self):\n",
    "        \"\"\"\n",
    "        State that today it is my birthday\n",
    "        \"\"\"\n",
    "        print(\"Today it's my birthday.!\")\n",
    "        self.age += 1"
   ]
  },
  {
   "cell_type": "code",
   "execution_count": 16,
   "metadata": {},
   "outputs": [
    {
     "data": {
      "text/plain": [
       "\u001b[0;31mInit signature:\u001b[0m \u001b[0mPerson\u001b[0m\u001b[0;34m(\u001b[0m\u001b[0mname\u001b[0m\u001b[0;34m,\u001b[0m \u001b[0mage\u001b[0m\u001b[0;34m,\u001b[0m \u001b[0mgender\u001b[0m\u001b[0;34m)\u001b[0m\u001b[0;34m\u001b[0m\u001b[0;34m\u001b[0m\u001b[0m\n",
       "\u001b[0;31mDocstring:\u001b[0m     \n",
       "This class describes a person represented by its general features\n",
       "like name, age and gender\n",
       "\u001b[0;31mInit docstring:\u001b[0m\n",
       "To create an instance of the class provide the following parameters\n",
       "\n",
       "Args:\n",
       "    name (string) : the name of the person\n",
       "    age (int) : the age of the person\n",
       "    gender (string) : the gender of the person\n",
       "\u001b[0;31mType:\u001b[0m           type\n",
       "\u001b[0;31mSubclasses:\u001b[0m     \n"
      ]
     },
     "metadata": {},
     "output_type": "display_data"
    }
   ],
   "source": [
    "Person?"
   ]
  },
  {
   "cell_type": "code",
   "execution_count": 17,
   "metadata": {},
   "outputs": [],
   "source": [
    "marco = Person('marco',44,'male')"
   ]
  },
  {
   "cell_type": "code",
   "execution_count": 18,
   "metadata": {},
   "outputs": [
    {
     "name": "stdout",
     "output_type": "stream",
     "text": [
      "Hello my name is marco, I'm a male and I'm 44 years old\n"
     ]
    }
   ],
   "source": [
    "marco.greet()"
   ]
  },
  {
   "cell_type": "code",
   "execution_count": 19,
   "metadata": {},
   "outputs": [
    {
     "name": "stdout",
     "output_type": "stream",
     "text": [
      "Hey! Today it's my birthday.!\n"
     ]
    },
    {
     "data": {
      "text/plain": [
       "45"
      ]
     },
     "execution_count": 19,
     "metadata": {},
     "output_type": "execute_result"
    }
   ],
   "source": [
    "marco.ismybirthday()\n",
    "marco.age"
   ]
  },
  {
   "cell_type": "markdown",
   "metadata": {},
   "source": [
    "Add some consistency check on the value of the age. \n",
    "\n",
    "Introduce the _get_ and _set_ method,"
   ]
  },
  {
   "cell_type": "code",
   "execution_count": 56,
   "metadata": {},
   "outputs": [],
   "source": [
    "class Person:\n",
    "    \"\"\"\n",
    "    This class describes a person represented by its general features\n",
    "    like name, age and gender\n",
    "    \"\"\"\n",
    "    \n",
    "    def __init__(self,name,age,gender):\n",
    "        \"\"\"\n",
    "        To create an instance of the class provide the following parameters\n",
    "        \n",
    "        Args:\n",
    "            name (string) : the name of the person\n",
    "            age (int) : the age of the person\n",
    "            gender (string) : the gender of the person\n",
    "        \"\"\"\n",
    "        self.name = name\n",
    "        self.set_age(age)\n",
    "        self.gender = gender\n",
    "\n",
    "    def greet(self):\n",
    "        \"\"\"\n",
    "        I introduce my self\n",
    "        \"\"\"\n",
    "        print(\"Hello my name is %s, I'm a %s and I'm %s years old\"%(self.name,self.gender,self.age))\n",
    "    \n",
    "    def ismybirthday(self):\n",
    "        \"\"\"\n",
    "        State that today it is my birthday\n",
    "        \"\"\"\n",
    "        print(\"Today it's my birthday.!\")\n",
    "        self.age += 1\n",
    "        \n",
    "    def set_age(self,age):\n",
    "        \"\"\"\n",
    "        Set the age and check that age is a positive integer\n",
    "        \"\"\"\n",
    "        try: \n",
    "            self.age = age\n",
    "            assert type(age) is int and age > 0 # Test if it true\n",
    "        except AssertionError :\n",
    "            raise\n",
    "        "
   ]
  },
  {
   "cell_type": "code",
   "execution_count": 57,
   "metadata": {},
   "outputs": [
    {
     "data": {
      "text/plain": [
       "44"
      ]
     },
     "execution_count": 57,
     "metadata": {},
     "output_type": "execute_result"
    }
   ],
   "source": [
    "marco = Person('marco',44,'male')\n",
    "marco.age"
   ]
  },
  {
   "cell_type": "code",
   "execution_count": 63,
   "metadata": {},
   "outputs": [
    {
     "data": {
      "text/plain": [
       "True"
      ]
     },
     "execution_count": 63,
     "metadata": {},
     "output_type": "execute_result"
    }
   ],
   "source": [
    "type(marco) is Person"
   ]
  },
  {
   "cell_type": "markdown",
   "metadata": {},
   "source": [
    "## Inheritance, parent and child classes "
   ]
  },
  {
   "cell_type": "markdown",
   "metadata": {},
   "source": [
    "If we need to add further properties, or to modify some of them, to an existing class we can define a \n",
    "child class that inherits from the original one (parent).\n",
    "\n",
    "For instance use the class person defined above to define class employer"
   ]
  },
  {
   "cell_type": "code",
   "execution_count": 159,
   "metadata": {},
   "outputs": [],
   "source": [
    "class Employer(Person):\n",
    "    \"\"\"\n",
    "    This class describes an employer defined by adding the level to the \n",
    "    attributea of an instance of Person \n",
    "    \"\"\"\n",
    "    \n",
    "    def __init__(self,name,age,gender,level):\n",
    "        Person.__init__(self,name,age,gender)\n",
    "        self.level = level\n",
    "    \n",
    "    def greet(self):\n",
    "        \"\"\"\n",
    "        A more formal greeting\n",
    "        \"\"\"\n",
    "        print(\"Hello my name is %s and my level is %s\"%(self.name,self.level))"
   ]
  },
  {
   "cell_type": "code",
   "execution_count": 160,
   "metadata": {},
   "outputs": [
    {
     "data": {
      "text/plain": [
       "\u001b[0;31mInit signature:\u001b[0m \u001b[0mEmployer\u001b[0m\u001b[0;34m(\u001b[0m\u001b[0mname\u001b[0m\u001b[0;34m,\u001b[0m \u001b[0mage\u001b[0m\u001b[0;34m,\u001b[0m \u001b[0mgender\u001b[0m\u001b[0;34m,\u001b[0m \u001b[0mlevel\u001b[0m\u001b[0;34m)\u001b[0m\u001b[0;34m\u001b[0m\u001b[0;34m\u001b[0m\u001b[0m\n",
       "\u001b[0;31mDocstring:\u001b[0m     \n",
       "This class describes an employer defined by adding the level to the \n",
       "attributea of an instance of Person \n",
       "\u001b[0;31mInit docstring:\u001b[0m\n",
       "To create an instance of the class provide the following parameters\n",
       "\n",
       "Args:\n",
       "    name (string) : the name of the person\n",
       "    age (int) : the age of the person\n",
       "    gender (string) : the gender of the person\n",
       "\u001b[0;31mType:\u001b[0m           type\n",
       "\u001b[0;31mSubclasses:\u001b[0m     \n"
      ]
     },
     "metadata": {},
     "output_type": "display_data"
    }
   ],
   "source": [
    "Employer?"
   ]
  },
  {
   "cell_type": "code",
   "execution_count": 180,
   "metadata": {},
   "outputs": [
    {
     "name": "stdout",
     "output_type": "stream",
     "text": [
      "Destructor called, Employer deleted.\n"
     ]
    }
   ],
   "source": [
    "marco = Employer('marco',44,'male',level=3)"
   ]
  },
  {
   "cell_type": "code",
   "execution_count": 181,
   "metadata": {},
   "outputs": [
    {
     "name": "stdout",
     "output_type": "stream",
     "text": [
      "Hello my name is marco and my level is 3\n"
     ]
    }
   ],
   "source": [
    "marco.greet()"
   ]
  },
  {
   "cell_type": "code",
   "execution_count": 182,
   "metadata": {},
   "outputs": [
    {
     "name": "stdout",
     "output_type": "stream",
     "text": [
      "Today it's my birthday.!\n"
     ]
    },
    {
     "data": {
      "text/plain": [
       "45"
      ]
     },
     "execution_count": 182,
     "metadata": {},
     "output_type": "execute_result"
    }
   ],
   "source": [
    "marco.ismybirthday()\n",
    "marco.age"
   ]
  },
  {
   "cell_type": "code",
   "execution_count": 183,
   "metadata": {},
   "outputs": [
    {
     "data": {
      "text/plain": [
       "True"
      ]
     },
     "execution_count": 183,
     "metadata": {},
     "output_type": "execute_result"
    }
   ],
   "source": [
    "type(marco) is Employer"
   ]
  },
  {
   "cell_type": "markdown",
   "metadata": {},
   "source": [
    "Let's define another child class derived from Person"
   ]
  },
  {
   "cell_type": "code",
   "execution_count": 207,
   "metadata": {},
   "outputs": [],
   "source": [
    "class Director(Person):\n",
    "    \"\"\"\n",
    "    This class describes the Director \n",
    "    \"\"\"\n",
    "    \n",
    "    def __init__(self,name,age,gender):\n",
    "        Person.__init__(self,name,age,gender)\n",
    "    \n",
    "    def greet(self):\n",
    "        \"\"\"\n",
    "        Director's greeting\n",
    "        \"\"\"\n",
    "        print(\"Hello my name is %s and I'm the director\"%self.name)\n",
    "    \n",
    "    def advance(self,employer):\n",
    "        \"\"\"\n",
    "        Increase the level of the employer\n",
    "        \"\"\"\n",
    "        if type(employer) is not Employer:\n",
    "            print('Get hired first!')\n",
    "        elif employer.level == 1:\n",
    "            print('%s you are already at the top level'%employer.name)\n",
    "        else:\n",
    "            employer.level -= 1\n",
    "            print('%s now your level is %s'%(employer.name,employer.level))\n",
    "    \n",
    "    def decrease(self,employer):\n",
    "        \"\"\"\n",
    "        Decrease the level of the employer\n",
    "        \"\"\"\n",
    "        if type(employer) is not Employer:\n",
    "            print('Get hired first!')\n",
    "        elif employer.level == 3:\n",
    "            print('%s you are already at the lowest level'%employer.name)\n",
    "        else:\n",
    "            employer.level += 1\n",
    "            print('%s now your level is %s'%(employer.name,employer.level))"
   ]
  },
  {
   "cell_type": "code",
   "execution_count": 217,
   "metadata": {},
   "outputs": [],
   "source": [
    "marco = Employer('marco',44,'male',level=3)\n",
    "claudia = Person('claudia',39,'female')\n",
    "aldo = Director('aldo',age=50,gender='male')"
   ]
  },
  {
   "cell_type": "code",
   "execution_count": 218,
   "metadata": {},
   "outputs": [
    {
     "name": "stdout",
     "output_type": "stream",
     "text": [
      "Hello my name is marco and my level is 3\n",
      "Hello my name is claudia, I'm a female and I'm 39 years old\n"
     ]
    }
   ],
   "source": [
    "marco.greet()\n",
    "claudia.greet()"
   ]
  },
  {
   "cell_type": "code",
   "execution_count": 221,
   "metadata": {},
   "outputs": [
    {
     "name": "stdout",
     "output_type": "stream",
     "text": [
      "marco you are already at the top level\n",
      "Hello my name is marco and my level is 1\n",
      "Get hired first!\n"
     ]
    }
   ],
   "source": [
    "aldo.advance(marco)\n",
    "marco.greet()\n",
    "aldo.advance(claudia)"
   ]
  },
  {
   "cell_type": "code",
   "execution_count": 224,
   "metadata": {},
   "outputs": [
    {
     "name": "stdout",
     "output_type": "stream",
     "text": [
      "marco you are already at the lowest level\n",
      "Hello my name is marco and my level is 3\n"
     ]
    }
   ],
   "source": [
    "aldo.decrease(marco)\n",
    "marco.greet()"
   ]
  },
  {
   "cell_type": "markdown",
   "metadata": {},
   "source": [
    "## Other (more useful?) examples"
   ]
  },
  {
   "cell_type": "code",
   "execution_count": null,
   "metadata": {},
   "outputs": [],
   "source": []
  },
  {
   "cell_type": "code",
   "execution_count": null,
   "metadata": {},
   "outputs": [],
   "source": []
  },
  {
   "cell_type": "code",
   "execution_count": null,
   "metadata": {},
   "outputs": [],
   "source": []
  },
  {
   "cell_type": "code",
   "execution_count": null,
   "metadata": {},
   "outputs": [],
   "source": []
  },
  {
   "cell_type": "code",
   "execution_count": null,
   "metadata": {},
   "outputs": [],
   "source": []
  }
 ],
 "metadata": {
  "kernelspec": {
   "display_name": "Python 3",
   "language": "python",
   "name": "python3"
  },
  "language_info": {
   "codemirror_mode": {
    "name": "ipython",
    "version": 3
   },
   "file_extension": ".py",
   "mimetype": "text/x-python",
   "name": "python",
   "nbconvert_exporter": "python",
   "pygments_lexer": "ipython3",
   "version": "3.8.5"
  }
 },
 "nbformat": 4,
 "nbformat_minor": 4
}
