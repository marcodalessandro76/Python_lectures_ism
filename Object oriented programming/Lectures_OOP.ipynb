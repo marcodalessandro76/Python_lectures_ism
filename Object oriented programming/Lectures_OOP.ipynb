{
 "cells": [
  {
   "cell_type": "markdown",
   "metadata": {},
   "source": [
    "# Object Oriented Programming (OOP) in Python "
   ]
  },
  {
   "cell_type": "markdown",
   "metadata": {},
   "source": [
    "## OOP versus procedural programming paradigms"
   ]
  },
  {
   "cell_type": "markdown",
   "metadata": {},
   "source": [
    "A common way to structure a program is to use the __Procedural programming paradigm__:\n",
    "* define data and function that operates on data\n",
    "* structures a program like a recipe that it provides a set of steps, in the form of functions and code blocks, that flow sequentially in order to complete a task\n",
    "\n",
    "An alternative to this approach is provided by the __Object oriented programming paradigm__.\n",
    "\n",
    "Here we give some definition of what on object is:\n",
    "* An object is simply a collection of data (variables) and methods (functions) that act on those data.\n",
    "* Objects are a way to encapsulate variables and functions that operates on them into a single entity.\n",
    "\n",
    "In a OOP the programmer defines the objects and make them interact. "
   ]
  },
  {
   "cell_type": "markdown",
   "metadata": {},
   "source": [
    "## First examples of class definition and usage"
   ]
  },
  {
   "cell_type": "markdown",
   "metadata": {},
   "source": [
    "Python data structure like for instance a numpy array has the features of an object."
   ]
  },
  {
   "cell_type": "code",
   "execution_count": 1,
   "metadata": {},
   "outputs": [],
   "source": [
    "import numpy as np\n",
    "import random as rand"
   ]
  },
  {
   "cell_type": "code",
   "execution_count": 5,
   "metadata": {},
   "outputs": [
    {
     "data": {
      "text/plain": [
       "array([0.86711845, 0.69028001, 0.70253927, 0.98537323, 0.65257081,\n",
       "       0.20787459, 0.01831197, 0.21071877, 0.85844787, 0.05849734])"
      ]
     },
     "execution_count": 5,
     "metadata": {},
     "output_type": "execute_result"
    }
   ],
   "source": [
    "data = np.array([rand.random() for ind in range(10)])\n",
    "data"
   ]
  },
  {
   "cell_type": "markdown",
   "metadata": {},
   "source": [
    "Since data is np.array we can perform specific (python provided) operation on it"
   ]
  },
  {
   "cell_type": "code",
   "execution_count": 7,
   "metadata": {},
   "outputs": [
    {
     "data": {
      "text/plain": [
       "0.5251732310406119"
      ]
     },
     "execution_count": 7,
     "metadata": {},
     "output_type": "execute_result"
    }
   ],
   "source": [
    "data.mean()"
   ]
  },
  {
   "cell_type": "code",
   "execution_count": 8,
   "metadata": {},
   "outputs": [
    {
     "data": {
      "text/plain": [
       "3"
      ]
     },
     "execution_count": 8,
     "metadata": {},
     "output_type": "execute_result"
    }
   ],
   "source": [
    "data.argmax()"
   ]
  },
  {
   "cell_type": "markdown",
   "metadata": {},
   "source": [
    "The notion of __class__ allows us to build our own objects with specific data and methods.\n",
    "\n",
    "Here we discuss a first example"
   ]
  },
  {
   "cell_type": "code",
   "execution_count": 20,
   "metadata": {},
   "outputs": [],
   "source": [
    "class Person:\n",
    "    \"\"\"\n",
    "    This class describes a person represented by its general features\n",
    "    like name, age and gender\n",
    "    \"\"\"\n",
    "    \n",
    "    def __init__(self,name,age,gender):\n",
    "        \"\"\"\n",
    "        To create an instance of the class provide the following parameters\n",
    "        \n",
    "        Args:\n",
    "            name (string) : the name of the person\n",
    "            age (int) : the age of the person\n",
    "            gender (string) : the gender of the person\n",
    "        \"\"\"\n",
    "        self.name = name\n",
    "        self.age = age\n",
    "        self.gender = gender\n",
    "\n",
    "    def greet(self):\n",
    "        \"\"\"\n",
    "        I introduce my self\n",
    "        \"\"\"\n",
    "        print(\"Hello my name is %s, I'm a %s and I'm %s years old\"%(self.name,self.gender,self.age))\n",
    "    \n",
    "    def ismybirthday(self):\n",
    "        \"\"\"\n",
    "        State that today it is my birthday\n",
    "        \"\"\"\n",
    "        print(\"Today it's my birthday.!\")\n",
    "        self.age += 1"
   ]
  },
  {
   "cell_type": "code",
   "execution_count": 16,
   "metadata": {},
   "outputs": [
    {
     "data": {
      "text/plain": [
       "\u001b[0;31mInit signature:\u001b[0m \u001b[0mPerson\u001b[0m\u001b[0;34m(\u001b[0m\u001b[0mname\u001b[0m\u001b[0;34m,\u001b[0m \u001b[0mage\u001b[0m\u001b[0;34m,\u001b[0m \u001b[0mgender\u001b[0m\u001b[0;34m)\u001b[0m\u001b[0;34m\u001b[0m\u001b[0;34m\u001b[0m\u001b[0m\n",
       "\u001b[0;31mDocstring:\u001b[0m     \n",
       "This class describes a person represented by its general features\n",
       "like name, age and gender\n",
       "\u001b[0;31mInit docstring:\u001b[0m\n",
       "To create an instance of the class provide the following parameters\n",
       "\n",
       "Args:\n",
       "    name (string) : the name of the person\n",
       "    age (int) : the age of the person\n",
       "    gender (string) : the gender of the person\n",
       "\u001b[0;31mType:\u001b[0m           type\n",
       "\u001b[0;31mSubclasses:\u001b[0m     \n"
      ]
     },
     "metadata": {},
     "output_type": "display_data"
    }
   ],
   "source": [
    "Person?"
   ]
  },
  {
   "cell_type": "code",
   "execution_count": 17,
   "metadata": {},
   "outputs": [],
   "source": [
    "marco = Person('marco',44,'male')"
   ]
  },
  {
   "cell_type": "code",
   "execution_count": 18,
   "metadata": {},
   "outputs": [
    {
     "name": "stdout",
     "output_type": "stream",
     "text": [
      "Hello my name is marco, I'm a male and I'm 44 years old\n"
     ]
    }
   ],
   "source": [
    "marco.greet()"
   ]
  },
  {
   "cell_type": "code",
   "execution_count": 19,
   "metadata": {},
   "outputs": [
    {
     "name": "stdout",
     "output_type": "stream",
     "text": [
      "Hey! Today it's my birthday.!\n"
     ]
    },
    {
     "data": {
      "text/plain": [
       "45"
      ]
     },
     "execution_count": 19,
     "metadata": {},
     "output_type": "execute_result"
    }
   ],
   "source": [
    "marco.ismybirthday()\n",
    "marco.age"
   ]
  },
  {
   "cell_type": "markdown",
   "metadata": {},
   "source": [
    "Add some consistency check on the value of the age. \n",
    "\n",
    "Introduce the _get_ and _set_ method,"
   ]
  },
  {
   "cell_type": "code",
   "execution_count": 56,
   "metadata": {},
   "outputs": [],
   "source": [
    "class Person:\n",
    "    \"\"\"\n",
    "    This class describes a person represented by its general features\n",
    "    like name, age and gender\n",
    "    \"\"\"\n",
    "    \n",
    "    def __init__(self,name,age,gender):\n",
    "        \"\"\"\n",
    "        To create an instance of the class provide the following parameters\n",
    "        \n",
    "        Args:\n",
    "            name (string) : the name of the person\n",
    "            age (int) : the age of the person\n",
    "            gender (string) : the gender of the person\n",
    "        \"\"\"\n",
    "        self.name = name\n",
    "        self.set_age(age)\n",
    "        self.gender = gender\n",
    "\n",
    "    def greet(self):\n",
    "        \"\"\"\n",
    "        I introduce my self\n",
    "        \"\"\"\n",
    "        print(\"Hello my name is %s, I'm a %s and I'm %s years old\"%(self.name,self.gender,self.age))\n",
    "    \n",
    "    def ismybirthday(self):\n",
    "        \"\"\"\n",
    "        State that today it is my birthday\n",
    "        \"\"\"\n",
    "        print(\"Today it's my birthday.!\")\n",
    "        self.age += 1\n",
    "        \n",
    "    def set_age(self,age):\n",
    "        \"\"\"\n",
    "        Set the age and check that age is a positive integer\n",
    "        \"\"\"\n",
    "        try: \n",
    "            self.age = age\n",
    "            assert type(age) is int and age > 0 # Test if it true\n",
    "        except AssertionError :\n",
    "            raise\n",
    "        "
   ]
  },
  {
   "cell_type": "code",
   "execution_count": 57,
   "metadata": {},
   "outputs": [
    {
     "data": {
      "text/plain": [
       "44"
      ]
     },
     "execution_count": 57,
     "metadata": {},
     "output_type": "execute_result"
    }
   ],
   "source": [
    "marco = Person('marco',44,'male')\n",
    "marco.age"
   ]
  },
  {
   "cell_type": "code",
   "execution_count": 63,
   "metadata": {},
   "outputs": [
    {
     "data": {
      "text/plain": [
       "True"
      ]
     },
     "execution_count": 63,
     "metadata": {},
     "output_type": "execute_result"
    }
   ],
   "source": [
    "type(marco) is Person"
   ]
  },
  {
   "cell_type": "markdown",
   "metadata": {},
   "source": [
    "## Inheritance, parent and child classes "
   ]
  },
  {
   "cell_type": "markdown",
   "metadata": {},
   "source": [
    "If we need to add further properties, or to modify some of them, to an existing class we can define a \n",
    "child class that inherits from the original one (parent).\n",
    "\n",
    "For instance use the class person defined above to define class employer"
   ]
  },
  {
   "cell_type": "code",
   "execution_count": 159,
   "metadata": {},
   "outputs": [],
   "source": [
    "class Employer(Person):\n",
    "    \"\"\"\n",
    "    This class describes an employer defined by adding the level to the \n",
    "    attributea of an instance of Person \n",
    "    \"\"\"\n",
    "    \n",
    "    def __init__(self,name,age,gender,level):\n",
    "        Person.__init__(self,name,age,gender)\n",
    "        self.level = level\n",
    "    \n",
    "    def greet(self):\n",
    "        \"\"\"\n",
    "        A more formal greeting\n",
    "        \"\"\"\n",
    "        print(\"Hello my name is %s and my level is %s\"%(self.name,self.level))"
   ]
  },
  {
   "cell_type": "code",
   "execution_count": 160,
   "metadata": {},
   "outputs": [
    {
     "data": {
      "text/plain": [
       "\u001b[0;31mInit signature:\u001b[0m \u001b[0mEmployer\u001b[0m\u001b[0;34m(\u001b[0m\u001b[0mname\u001b[0m\u001b[0;34m,\u001b[0m \u001b[0mage\u001b[0m\u001b[0;34m,\u001b[0m \u001b[0mgender\u001b[0m\u001b[0;34m,\u001b[0m \u001b[0mlevel\u001b[0m\u001b[0;34m)\u001b[0m\u001b[0;34m\u001b[0m\u001b[0;34m\u001b[0m\u001b[0m\n",
       "\u001b[0;31mDocstring:\u001b[0m     \n",
       "This class describes an employer defined by adding the level to the \n",
       "attributea of an instance of Person \n",
       "\u001b[0;31mInit docstring:\u001b[0m\n",
       "To create an instance of the class provide the following parameters\n",
       "\n",
       "Args:\n",
       "    name (string) : the name of the person\n",
       "    age (int) : the age of the person\n",
       "    gender (string) : the gender of the person\n",
       "\u001b[0;31mType:\u001b[0m           type\n",
       "\u001b[0;31mSubclasses:\u001b[0m     \n"
      ]
     },
     "metadata": {},
     "output_type": "display_data"
    }
   ],
   "source": [
    "Employer?"
   ]
  },
  {
   "cell_type": "code",
   "execution_count": 180,
   "metadata": {},
   "outputs": [
    {
     "name": "stdout",
     "output_type": "stream",
     "text": [
      "Destructor called, Employer deleted.\n"
     ]
    }
   ],
   "source": [
    "marco = Employer('marco',44,'male',level=3)"
   ]
  },
  {
   "cell_type": "code",
   "execution_count": 181,
   "metadata": {},
   "outputs": [
    {
     "name": "stdout",
     "output_type": "stream",
     "text": [
      "Hello my name is marco and my level is 3\n"
     ]
    }
   ],
   "source": [
    "marco.greet()"
   ]
  },
  {
   "cell_type": "code",
   "execution_count": 182,
   "metadata": {},
   "outputs": [
    {
     "name": "stdout",
     "output_type": "stream",
     "text": [
      "Today it's my birthday.!\n"
     ]
    },
    {
     "data": {
      "text/plain": [
       "45"
      ]
     },
     "execution_count": 182,
     "metadata": {},
     "output_type": "execute_result"
    }
   ],
   "source": [
    "marco.ismybirthday()\n",
    "marco.age"
   ]
  },
  {
   "cell_type": "code",
   "execution_count": 183,
   "metadata": {},
   "outputs": [
    {
     "data": {
      "text/plain": [
       "True"
      ]
     },
     "execution_count": 183,
     "metadata": {},
     "output_type": "execute_result"
    }
   ],
   "source": [
    "type(marco) is Employer"
   ]
  },
  {
   "cell_type": "markdown",
   "metadata": {},
   "source": [
    "Let's define another child class derived from Person"
   ]
  },
  {
   "cell_type": "code",
   "execution_count": 207,
   "metadata": {},
   "outputs": [],
   "source": [
    "class Director(Person):\n",
    "    \"\"\"\n",
    "    This class describes the Director \n",
    "    \"\"\"\n",
    "    \n",
    "    def __init__(self,name,age,gender):\n",
    "        Person.__init__(self,name,age,gender)\n",
    "    \n",
    "    def greet(self):\n",
    "        \"\"\"\n",
    "        Director's greeting\n",
    "        \"\"\"\n",
    "        print(\"Hello my name is %s and I'm the director\"%self.name)\n",
    "    \n",
    "    def advance(self,employer):\n",
    "        \"\"\"\n",
    "        Increase the level of the employer\n",
    "        \"\"\"\n",
    "        if type(employer) is not Employer:\n",
    "            print('Get hired first!')\n",
    "        elif employer.level == 1:\n",
    "            print('%s you are already at the top level'%employer.name)\n",
    "        else:\n",
    "            employer.level -= 1\n",
    "            print('%s now your level is %s'%(employer.name,employer.level))\n",
    "    \n",
    "    def decrease(self,employer):\n",
    "        \"\"\"\n",
    "        Decrease the level of the employer\n",
    "        \"\"\"\n",
    "        if type(employer) is not Employer:\n",
    "            print('Get hired first!')\n",
    "        elif employer.level == 3:\n",
    "            print('%s you are already at the lowest level'%employer.name)\n",
    "        else:\n",
    "            employer.level += 1\n",
    "            print('%s now your level is %s'%(employer.name,employer.level))"
   ]
  },
  {
   "cell_type": "code",
   "execution_count": 217,
   "metadata": {},
   "outputs": [],
   "source": [
    "marco = Employer('marco',44,'male',level=3)\n",
    "claudia = Person('claudia',39,'female')\n",
    "aldo = Director('aldo',age=50,gender='male')"
   ]
  },
  {
   "cell_type": "code",
   "execution_count": 218,
   "metadata": {},
   "outputs": [
    {
     "name": "stdout",
     "output_type": "stream",
     "text": [
      "Hello my name is marco and my level is 3\n",
      "Hello my name is claudia, I'm a female and I'm 39 years old\n"
     ]
    }
   ],
   "source": [
    "marco.greet()\n",
    "claudia.greet()"
   ]
  },
  {
   "cell_type": "code",
   "execution_count": 221,
   "metadata": {},
   "outputs": [
    {
     "name": "stdout",
     "output_type": "stream",
     "text": [
      "marco you are already at the top level\n",
      "Hello my name is marco and my level is 1\n",
      "Get hired first!\n"
     ]
    }
   ],
   "source": [
    "aldo.advance(marco)\n",
    "marco.greet()\n",
    "aldo.advance(claudia)"
   ]
  },
  {
   "cell_type": "code",
   "execution_count": 224,
   "metadata": {},
   "outputs": [
    {
     "name": "stdout",
     "output_type": "stream",
     "text": [
      "marco you are already at the lowest level\n",
      "Hello my name is marco and my level is 3\n"
     ]
    }
   ],
   "source": [
    "aldo.decrease(marco)\n",
    "marco.greet()"
   ]
  },
  {
   "cell_type": "markdown",
   "metadata": {},
   "source": [
    "## Other (more useful?) examples. Work with QuantumESPRESSO output"
   ]
  },
  {
   "cell_type": "code",
   "execution_count": 41,
   "metadata": {},
   "outputs": [
    {
     "name": "stdout",
     "output_type": "stream",
     "text": [
      "The autoreload extension is already loaded. To reload it, use:\n",
      "  %reload_ext autoreload\n"
     ]
    }
   ],
   "source": [
    "# useful to autoreload the module without restarting the kernel\n",
    "%load_ext autoreload\n",
    "%autoreload 2"
   ]
  },
  {
   "cell_type": "code",
   "execution_count": 42,
   "metadata": {},
   "outputs": [],
   "source": [
    "import sys\n",
    "sys.path.append('code')\n",
    "import PwParser as P"
   ]
  },
  {
   "cell_type": "code",
   "execution_count": 43,
   "metadata": {},
   "outputs": [
    {
     "data": {
      "text/plain": [
       "\u001b[0;31mInit signature:\u001b[0m \u001b[0mP\u001b[0m\u001b[0;34m.\u001b[0m\u001b[0mPwParser\u001b[0m\u001b[0;34m(\u001b[0m\u001b[0mfile\u001b[0m\u001b[0;34m,\u001b[0m \u001b[0mverbose\u001b[0m\u001b[0;34m=\u001b[0m\u001b[0;32mTrue\u001b[0m\u001b[0;34m)\u001b[0m\u001b[0;34m\u001b[0m\u001b[0;34m\u001b[0m\u001b[0m\n",
       "\u001b[0;31mDocstring:\u001b[0m     \n",
       "Class to perform the parsing of a QuantumESPRESSO XML file. Makes usage of the\n",
       "data-file-schema.xml file that is found in the run_dir/prefix.save folder.\n",
       "\n",
       "The init method initializes the data member of the class.\n",
       "\n",
       "Args:\n",
       "    file (str): The name, including the path of the data-file-schema.xml\n",
       "    verbose (bool) : set the amount of information written on terminal\n",
       "\n",
       "Attributes:\n",
       "    natoms : number of atoms in the cell\n",
       "    natypes : number of atomic species\n",
       "    atomic_positions : list with the position of each atom\n",
       "    atomic_species : dictionary with mass and pseudo for each species\n",
       "    num_electrons : number of electrons\n",
       "    nkpoints : numer of kpoints\n",
       "    nbands : number of bands\n",
       "    nbands_valence : number of occupied bands (for systems with a gap)\n",
       "    nbands_conduction : number of empty bands (for systems with a gap)\n",
       "    occupations_kind : type of occupation (fixed or smearing)\n",
       "    kpoints : list of the kpoints\n",
       "    occupations : array with the bands occupation for each kpoint\n",
       "    weights : array with the weight of each kpoint, each element is a\n",
       "        one-dimensional array.\n",
       "    energy : total energy of the system (in Hartree)\n",
       "    evals : array of the ks energies for each kpoint (in Hartree)\n",
       "    lsda : True if collinear spin is activated\n",
       "    noncolin : True if noncollinear spin calculation is activated\n",
       "    spinorbit : True if spin-orbit couping is present\n",
       "    spin_degen : 1 if lsda or non collinear spin is activated, 2 otherwise\n",
       "\u001b[0;31mFile:\u001b[0m           ~/Data/RICERCA/INFORMATICS VARIOUS/Python_lectures_ism/Object oriented programming/code/PwParser.py\n",
       "\u001b[0;31mType:\u001b[0m           type\n",
       "\u001b[0;31mSubclasses:\u001b[0m     \n"
      ]
     },
     "metadata": {},
     "output_type": "display_data"
    }
   ],
   "source": [
    "P.PwParser?"
   ]
  },
  {
   "cell_type": "code",
   "execution_count": 61,
   "metadata": {},
   "outputs": [
    {
     "name": "stdout",
     "output_type": "stream",
     "text": [
      "Parse file : data/gaas_nscf.save/data-file-schema.xml\n"
     ]
    }
   ],
   "source": [
    "data = P.PwParser('data/gaas_nscf.save/data-file-schema.xml')"
   ]
  },
  {
   "cell_type": "markdown",
   "metadata": {},
   "source": [
    "We can access to the data members that contain the parsing of the xml file but the class provides also\n",
    "various specific methods. "
   ]
  },
  {
   "cell_type": "code",
   "execution_count": 62,
   "metadata": {},
   "outputs": [
    {
     "name": "stdout",
     "output_type": "stream",
     "text": [
      "{'Ga': ['1.000000000000000e0', 'Ga_hamlu.fhi.UPF'], 'As': ['1.000000000000000e0', 'As_hamlu.fhi.UPF']}\n",
      "Hartree atomic units\n",
      "8\n",
      "4\n",
      "[0. 0. 0.]\n",
      "[-0.29113618  0.18613232  0.18613232  0.18613232  0.20322935  0.32463907\n",
      "  0.32463907  0.32463907]\n"
     ]
    }
   ],
   "source": [
    "print(data.atomic_species)\n",
    "print(data.units)\n",
    "print(data.nbands)\n",
    "print(data.nbands_full)\n",
    "print(data.kpoints[0])\n",
    "print(data.evals[0])"
   ]
  },
  {
   "cell_type": "markdown",
   "metadata": {},
   "source": [
    "The methods contain analysis performed on the data"
   ]
  },
  {
   "cell_type": "code",
   "execution_count": 64,
   "metadata": {},
   "outputs": [
    {
     "data": {
      "text/plain": [
       "\u001b[0;31mSignature:\u001b[0m\n",
       "\u001b[0mdata\u001b[0m\u001b[0;34m.\u001b[0m\u001b[0mget_evals\u001b[0m\u001b[0;34m(\u001b[0m\u001b[0;34m\u001b[0m\n",
       "\u001b[0;34m\u001b[0m    \u001b[0mset_scissor\u001b[0m\u001b[0;34m=\u001b[0m\u001b[0;32mNone\u001b[0m\u001b[0;34m,\u001b[0m\u001b[0;34m\u001b[0m\n",
       "\u001b[0;34m\u001b[0m    \u001b[0mset_gap\u001b[0m\u001b[0;34m=\u001b[0m\u001b[0;32mNone\u001b[0m\u001b[0;34m,\u001b[0m\u001b[0;34m\u001b[0m\n",
       "\u001b[0;34m\u001b[0m    \u001b[0mset_direct_gap\u001b[0m\u001b[0;34m=\u001b[0m\u001b[0;32mNone\u001b[0m\u001b[0;34m,\u001b[0m\u001b[0;34m\u001b[0m\n",
       "\u001b[0;34m\u001b[0m    \u001b[0mverbose\u001b[0m\u001b[0;34m=\u001b[0m\u001b[0;32mTrue\u001b[0m\u001b[0;34m,\u001b[0m\u001b[0;34m\u001b[0m\n",
       "\u001b[0;34m\u001b[0m\u001b[0;34m)\u001b[0m\u001b[0;34m\u001b[0m\u001b[0;34m\u001b[0m\u001b[0m\n",
       "\u001b[0;31mDocstring:\u001b[0m\n",
       "Return the ks energies for each kpoint (in eV). The top of the valence band is used as the\n",
       "reference energy value. It is possible to shift the energies of the empty bands by setting an arbitrary\n",
       "value for the gap (direct or indirect) or by adding an explicit scissor.\n",
       "Implemented only for semiconductors, the energy shift of empty bands does not update their occupation levels.\n",
       "\n",
       "Args:\n",
       "    set_scissor (:py:class:`float`) : set the value of the scissor (in eV) that is added to the empty bands.\n",
       "        If a scissor is provided the set_gap and set_direct_gap parameters are ignored\n",
       "    set_gap (:py:class:`float`) : set the value of the gap (in eV) of the system. If set_gap is provided\n",
       "        the set_direct_gap parameter is ignored\n",
       "    set_direct_gap (:py:class:`float`) : set the value of the direct gap (in eV) of the system.\n",
       "\n",
       "Return:\n",
       "    :py:class:`numpy.array`  : an array with the ks energies for each kpoint\n",
       "\u001b[0;31mFile:\u001b[0m      ~/Data/RICERCA/INFORMATICS VARIOUS/Python_lectures_ism/Object oriented programming/code/PwParser.py\n",
       "\u001b[0;31mType:\u001b[0m      method\n"
      ]
     },
     "metadata": {},
     "output_type": "display_data"
    }
   ],
   "source": [
    "data.get_evals?"
   ]
  },
  {
   "cell_type": "code",
   "execution_count": 68,
   "metadata": {},
   "outputs": [
    {
     "name": "stdout",
     "output_type": "stream",
     "text": [
      "Apply a scissor of 0.9547660381861629 eV\n"
     ]
    },
    {
     "data": {
      "text/plain": [
       "array([-1.29871374e+01, -1.19481873e-08, -9.32078947e-09,  0.00000000e+00,\n",
       "        1.42000000e+00,  4.72372665e+00,  4.72372665e+00,  4.72372665e+00])"
      ]
     },
     "execution_count": 68,
     "metadata": {},
     "output_type": "execute_result"
    }
   ],
   "source": [
    "data.get_evals(set_gap=1.42)[0]"
   ]
  },
  {
   "cell_type": "code",
   "execution_count": 69,
   "metadata": {},
   "outputs": [
    {
     "name": "stdout",
     "output_type": "stream",
     "text": [
      "Direct gap system\n",
      "=================\n",
      "Gap : 0.465233961813837 eV\n"
     ]
    },
    {
     "data": {
      "text/plain": [
       "{'gap': 0.465233961813837,\n",
       " 'direct_gap': 0.465233961813837,\n",
       " 'position_cbm': 0,\n",
       " 'positon_vbm': 0}"
      ]
     },
     "execution_count": 69,
     "metadata": {},
     "output_type": "execute_result"
    }
   ],
   "source": [
    "data.get_gap()"
   ]
  },
  {
   "cell_type": "code",
   "execution_count": 70,
   "metadata": {},
   "outputs": [
    {
     "data": {
      "text/plain": [
       "\u001b[0;31mSignature:\u001b[0m\n",
       "\u001b[0mdata\u001b[0m\u001b[0;34m.\u001b[0m\u001b[0mget_transitions\u001b[0m\u001b[0;34m(\u001b[0m\u001b[0;34m\u001b[0m\n",
       "\u001b[0;34m\u001b[0m    \u001b[0minitial\u001b[0m\u001b[0;34m=\u001b[0m\u001b[0;34m'full'\u001b[0m\u001b[0;34m,\u001b[0m\u001b[0;34m\u001b[0m\n",
       "\u001b[0;34m\u001b[0m    \u001b[0mfinal\u001b[0m\u001b[0;34m=\u001b[0m\u001b[0;34m'empty'\u001b[0m\u001b[0;34m,\u001b[0m\u001b[0;34m\u001b[0m\n",
       "\u001b[0;34m\u001b[0m    \u001b[0mset_scissor\u001b[0m\u001b[0;34m=\u001b[0m\u001b[0;32mNone\u001b[0m\u001b[0;34m,\u001b[0m\u001b[0;34m\u001b[0m\n",
       "\u001b[0;34m\u001b[0m    \u001b[0mset_gap\u001b[0m\u001b[0;34m=\u001b[0m\u001b[0;32mNone\u001b[0m\u001b[0;34m,\u001b[0m\u001b[0;34m\u001b[0m\n",
       "\u001b[0;34m\u001b[0m    \u001b[0mset_direct_gap\u001b[0m\u001b[0;34m=\u001b[0m\u001b[0;32mNone\u001b[0m\u001b[0;34m,\u001b[0m\u001b[0;34m\u001b[0m\n",
       "\u001b[0;34m\u001b[0m\u001b[0;34m)\u001b[0m\u001b[0;34m\u001b[0m\u001b[0;34m\u001b[0m\u001b[0m\n",
       "\u001b[0;31mDocstring:\u001b[0m\n",
       "Compute the (vertical) transitions energies. For each kpoint compute the transition energies, i.e.\n",
       "the (positive) energy difference (in eV) between the final and the initial states.\n",
       "\n",
       "Args:\n",
       "    initial (string or list) : specifies the bands from which electrons can be extracted. It can be set to `full` or\n",
       "        `empty` to select the occupied or empty bands, respectively. Otherwise a list of bands can be\n",
       "        provided\n",
       "    final  (string or list) : specifies the final bands of the excited electrons. It can be set to `full` or\n",
       "        `empty` to select the occupied or empty bands, respectively. Otherwise a list of bands can be\n",
       "        provided\n",
       "    set_scissor (:py:class:`float`) : set the value of the scissor (in eV) that is added to the empty bands.\n",
       "        If a scissor is provided the set_gap and set_direct_gap parameters are ignored\n",
       "    set_gap (:py:class:`float`) : set the value of the gap (in eV) of the system. If set_gap is provided\n",
       "        the set_direct_gap parameter is ignored\n",
       "    set_direct_gap (:py:class:`float`) : set the value of the direct gap (in eV) of the system.\n",
       "\n",
       "Return:\n",
       "    :py:class:`numpy.array`  : an array with the transition energies for each kpoint\n",
       "\u001b[0;31mFile:\u001b[0m      ~/Data/RICERCA/INFORMATICS VARIOUS/Python_lectures_ism/Object oriented programming/code/PwParser.py\n",
       "\u001b[0;31mType:\u001b[0m      method\n"
      ]
     },
     "metadata": {},
     "output_type": "display_data"
    }
   ],
   "source": [
    "data.get_transitions?"
   ]
  },
  {
   "cell_type": "code",
   "execution_count": 76,
   "metadata": {},
   "outputs": [
    {
     "data": {
      "text/plain": [
       "array([[ 1.42      ,  4.72372665,  4.72372665,  4.72372665],\n",
       "       [ 2.75991809,  5.33235297,  5.33235298,  5.40545784],\n",
       "       [ 3.044193  ,  6.31035349,  6.31035351,  7.6086607 ],\n",
       "       [ 3.043431  ,  6.71579805,  6.71579805,  9.64673776],\n",
       "       [ 3.03619967,  6.77296784,  6.77296784,  9.85236819],\n",
       "       [ 4.02400266,  4.66973744,  6.41633201,  6.41633202],\n",
       "       [ 4.67878373,  5.53345395,  7.68198277,  7.72535819],\n",
       "       [ 4.65841067,  6.60109269,  8.09470206,  8.64501527],\n",
       "       [ 4.46697795,  6.75575038,  7.80204639, 10.24693453],\n",
       "       [ 4.22804705,  6.69591167,  7.26754006,  9.97612183],\n",
       "       [ 3.98234519,  6.44056043,  6.50002766,  7.83139434],\n",
       "       [ 3.52610805,  5.29566241,  5.50179385,  6.70261889],\n",
       "       [ 4.60156907,  5.91383064,  9.46759515,  9.46759519],\n",
       "       [ 5.05804969,  6.31187698,  9.49603275, 10.39965754],\n",
       "       [ 5.14920441,  7.80249818,  9.25972226, 10.14429222],\n",
       "       [ 5.0684481 ,  8.24122567,  9.31244742, 10.15297665],\n",
       "       [ 4.90036528,  7.89727708,  7.97689089,  7.98469691],\n",
       "       [ 4.75583672,  5.62128291, 12.40237583, 12.40237587],\n",
       "       [ 5.07975153,  6.12046883, 12.11351945, 12.73058061],\n",
       "       [ 5.10139403,  7.93627872, 11.28710654, 11.5314823 ],\n",
       "       [ 4.95434135,  5.25869376, 14.11980219, 14.11980232],\n",
       "       [ 5.38917293,  5.73739615,  7.65126644,  8.74395978],\n",
       "       [ 5.83530131,  6.90600232,  8.30184783,  9.75775017],\n",
       "       [ 5.98234976,  7.06011285,  9.43105522, 10.72296114],\n",
       "       [ 6.08253264,  6.67054606,  9.83077209, 12.3830559 ],\n",
       "       [ 6.63843568,  8.45705344,  9.594962  , 11.66050465],\n",
       "       [ 6.66672599,  8.55798263,  8.86105242, 11.1530881 ],\n",
       "       [ 6.51884964,  6.84221624, 12.3154732 , 12.62999993],\n",
       "       [ 9.11417077,  9.19202378,  9.76501903, 10.47044049]])"
      ]
     },
     "execution_count": 76,
     "metadata": {},
     "output_type": "execute_result"
    }
   ],
   "source": [
    "data.get_transitions(set_gap=1.42,initial=[3],final='empty')"
   ]
  },
  {
   "cell_type": "code",
   "execution_count": null,
   "metadata": {},
   "outputs": [],
   "source": []
  }
 ],
 "metadata": {
  "kernelspec": {
   "display_name": "Python 3",
   "language": "python",
   "name": "python3"
  },
  "language_info": {
   "codemirror_mode": {
    "name": "ipython",
    "version": 3
   },
   "file_extension": ".py",
   "mimetype": "text/x-python",
   "name": "python",
   "nbconvert_exporter": "python",
   "pygments_lexer": "ipython3",
   "version": "3.8.5"
  }
 },
 "nbformat": 4,
 "nbformat_minor": 4
}
